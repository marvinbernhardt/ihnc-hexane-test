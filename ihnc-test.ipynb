{
 "cells": [
  {
   "cell_type": "markdown",
   "metadata": {},
   "source": [
    "# Testing HNC initial guesses and updates"
   ]
  },
  {
   "cell_type": "markdown",
   "metadata": {},
   "source": [
    "## import"
   ]
  },
  {
   "cell_type": "code",
   "execution_count": null,
   "metadata": {},
   "outputs": [],
   "source": [
    "import matplotlib as mpl\n",
    "import matplotlib.pyplot as plt\n",
    "import numpy as np\n",
    "import scipy.constants as const"
   ]
  },
  {
   "cell_type": "markdown",
   "metadata": {},
   "source": [
    "## constants"
   ]
  },
  {
   "cell_type": "code",
   "execution_count": null,
   "metadata": {},
   "outputs": [],
   "source": [
    "const.k_gro = const.k * const.N_A * 1e-3"
   ]
  },
  {
   "cell_type": "markdown",
   "metadata": {},
   "source": [
    "## load hexane data"
   ]
  },
  {
   "cell_type": "code",
   "execution_count": null,
   "metadata": {},
   "outputs": [],
   "source": [
    "kBT = const.k_gro * 273.15\n",
    "density = 2000 / 7.53125**3  # n/V in nm^-3\n",
    "cut_off = 1.5"
   ]
  },
  {
   "cell_type": "code",
   "execution_count": null,
   "metadata": {},
   "outputs": [],
   "source": [
    "r = np.loadtxt('r.txt')\n",
    "rdf_target = np.loadtxt('rdf_target.txt')\n",
    "rdf_current = np.loadtxt('rdf_current.txt')\n",
    "rdf_incl = np.loadtxt('rdf_incl.txt')\n",
    "pot_current = np.loadtxt('pot_current.txt')  # HNC (no bonds) init\n",
    "pot_10stepsIHNC = np.loadtxt('pot_10stepsIHNC.txt')  # not fully converged but good for comparison"
   ]
  },
  {
   "cell_type": "markdown",
   "metadata": {},
   "source": [
    "## plot input data"
   ]
  },
  {
   "cell_type": "code",
   "execution_count": null,
   "metadata": {},
   "outputs": [],
   "source": [
    "mpl_rc = {\n",
    "    'figure.dpi': 150,\n",
    "}\n",
    "\n",
    "with mpl.rc_context(rc=mpl_rc):\n",
    "    fig, ax = plt.subplots(figsize=(5, 3))\n",
    "    ax.plot(r, rdf_target, label='g')\n",
    "    ax.plot(r, rdf_incl, '--', label='G')\n",
    "    ax.plot(r, rdf_incl - rdf_target, ':', label='G-g')\n",
    "    ax.legend()\n",
    "    ax.set_xlabel(r'$r$')\n",
    "    ax.set_xlim(0)\n",
    "    plt.show()"
   ]
  },
  {
   "cell_type": "markdown",
   "metadata": {},
   "source": [
    "## Use HNC (without and with bonds) for inital guess"
   ]
  },
  {
   "cell_type": "code",
   "execution_count": null,
   "metadata": {},
   "outputs": [],
   "source": [
    "def fourier(r, y, omega):\n",
    "    Delta_r = r[1] - r[0]\n",
    "    y_hat = np.zeros_like(omega)\n",
    "    np.seterr(divide='ignore', invalid='ignore', under='ignore')\n",
    "    for i, omega_i in enumerate(omega):\n",
    "        y_hat[i] = 2 / omega_i * Delta_r * np.sum(r * y * np.sin(2 * np.pi * omega_i * r))\n",
    "    np.seterr(all='raise')\n",
    "    return y_hat"
   ]
  },
  {
   "cell_type": "code",
   "execution_count": null,
   "metadata": {},
   "outputs": [],
   "source": [
    "def calc_pot_hnc(r, g, kBT, rho, G=None):\n",
    "    \"\"\"calculates U from g (normal RDF)\n",
    "    \n",
    "    if G (RDF including intramolecular atoms) is not None\n",
    "    it takes into account intramolecular interactions for molecules \n",
    "    with two beads\"\"\"\n",
    "    \n",
    "    # total correlation function h\n",
    "    h = g - 1\n",
    "\n",
    "    # Fourier of h\n",
    "    omega = np.arange(1, len(r)) / (2 * max(r))\n",
    "    h_hat = fourier(r, h, omega)\n",
    "    \n",
    "    if G is None:\n",
    "        # direct correlation function c\n",
    "        c_hat = h_hat / (1 + rho * h_hat)\n",
    "    else:\n",
    "        # total correlation function H (includes intramolecular)\n",
    "        H = G - 1\n",
    "        H_hat = fourier(r, H, omega)\n",
    "        # direct correlation function c\n",
    "        c_hat = h_hat / ((1 + 1/2*rho*(H_hat - h_hat)) * ((1 + 1/2*rho*(H_hat - h_hat)) + rho * h_hat))\n",
    "        \n",
    "    c = fourier(omega, c_hat, r)\n",
    "    \n",
    "    np.seterr(divide='ignore', invalid='ignore')\n",
    "    U = -kBT * np.log(g) + kBT * (h - c)\n",
    "    np.seterr(all='raise')\n",
    "\n",
    "    return U"
   ]
  },
  {
   "cell_type": "code",
   "execution_count": null,
   "metadata": {},
   "outputs": [],
   "source": [
    "pot_hnc = calc_pot_hnc(r, rdf_target, kBT, density, G=None)\n",
    "pot_hnc_bonds = calc_pot_hnc(r, rdf_target, kBT, density, G=rdf_incl)"
   ]
  },
  {
   "cell_type": "code",
   "execution_count": null,
   "metadata": {},
   "outputs": [],
   "source": [
    "# plot the results\n",
    "mpl_rc = {\n",
    "    'figure.dpi': 150,\n",
    "}\n",
    "\n",
    "with mpl.rc_context(rc=mpl_rc):\n",
    "    fig, ax = plt.subplots(figsize=(5, 3))\n",
    "    ax.plot(r, pot_10stepsIHNC, 'k--', label='after 10 steps IHNC')\n",
    "    ax.plot(r, pot_hnc, label='HNC (no bonds)')\n",
    "    ax.plot(r, pot_hnc_bonds, label='HNC (with bonds)')\n",
    "    ax.legend()\n",
    "    ax.set_xlabel(r'$r$')\n",
    "    ax.set_ylabel(r'$U(r)$')\n",
    "    ax.set_xlim(0)\n",
    "    ax.set_ylim(-1, 3)\n",
    "    plt.show()"
   ]
  },
  {
   "cell_type": "markdown",
   "metadata": {},
   "source": [
    "This seems to work which indicates that taking into account the bonds and calculating $U(g, G)$ is working better than $U(g)$ (no bonds).\n",
    "\n",
    "So I would expect to also have better convergence using the derivative of that inverse Henderson map."
   ]
  },
  {
   "cell_type": "markdown",
   "metadata": {},
   "source": [
    "## Do one IHNC step (without and with bonds)"
   ]
  },
  {
   "cell_type": "code",
   "execution_count": null,
   "metadata": {},
   "outputs": [],
   "source": [
    "def calc_dpot_hnc(r, g, g_k, kBT, rho, G=None, method='IHNC'):\n",
    "    \"\"\"calculates ΔU from g (target RDF), g_k (current RDF)\n",
    "    \n",
    "    if G (current RDF including intramolecular atoms) is not None\n",
    "    it takes into account intramolecular interactions for molecules \n",
    "    with two beads\"\"\"\n",
    "    \n",
    "    # total correlation function h\n",
    "    h = g - 1\n",
    "    \n",
    "    # difference of current to target 'f'\n",
    "    f = g - g_k\n",
    "\n",
    "    # Fourier of h\n",
    "    omega = np.arange(1, len(r)) / (2 * max(r))\n",
    "    h_hat = fourier(r, h, omega)\n",
    "    \n",
    "    # Fourier of f\n",
    "    f_hat = fourier(r, f, omega)\n",
    "    \n",
    "    if G is None:\n",
    "        # direct correlation function c\n",
    "        b_hat = f_hat / (1 + rho * h_hat)**2\n",
    "    else:\n",
    "        # total correlation function H (includes intramolecular)\n",
    "        H = G - 1\n",
    "        H_hat = fourier(r, H, omega)\n",
    "        # Fourier of a\n",
    "        a_hat = 1 + rho/2 * (H_hat - h_hat)\n",
    "        # Fourier of b\n",
    "        b_hat = f_hat / (a_hat + rho * h_hat)**2\n",
    "    b = fourier(omega, b_hat, r)\n",
    "    \n",
    "    # first term of dU\n",
    "    np.seterr(divide='ignore', invalid='ignore')\n",
    "    if method == 'HNCN':\n",
    "        dU_first_term = -kBT * (f / g)\n",
    "    elif method == 'IHNC':\n",
    "        dU_first_term = kBT * np.log(g_k / g)\n",
    "    else:\n",
    "        raise Exception(f'method {method} not implemented')\n",
    "    np.seterr(all='raise')\n",
    "    \n",
    "    dU = dU_first_term + kBT * (f - b)\n",
    "    \n",
    "    return dU"
   ]
  },
  {
   "cell_type": "code",
   "execution_count": null,
   "metadata": {},
   "outputs": [],
   "source": [
    "dpot_hnc = calc_dpot_hnc(r, rdf_target, rdf_current, kBT, density, G=None, method='IHNC')\n",
    "dpot_hnc_bonds = calc_dpot_hnc(r, rdf_target, rdf_current, kBT, density, G=rdf_incl, method='IHNC')"
   ]
  },
  {
   "cell_type": "code",
   "execution_count": null,
   "metadata": {},
   "outputs": [],
   "source": [
    "# plot the results\n",
    "mpl_rc = {\n",
    "    'figure.dpi': 150,\n",
    "}\n",
    "\n",
    "with mpl.rc_context(rc=mpl_rc):\n",
    "    fig, ax = plt.subplots(figsize=(5, 3))\n",
    "    ax.plot(r, pot_10stepsIHNC, 'k--', label='after 10 steps IHNC')\n",
    "    ax.plot(r, pot_current, label='HNC init (old)')\n",
    "    ax.plot(r, pot_current + dpot_hnc, label='HNC init (old) + IHNC update (old)')\n",
    "    ax.plot(r, pot_current + dpot_hnc_bonds, label='HNC init (old) + IHNC update (new)')\n",
    "    ax.legend()\n",
    "    ax.set_xlabel(r'$r$')\n",
    "    ax.set_ylabel(r'$U(r)$')\n",
    "    ax.set_xlim(0)\n",
    "    ax.set_ylim(-1, 3)\n",
    "    plt.show()"
   ]
  },
  {
   "cell_type": "markdown",
   "metadata": {},
   "source": [
    "So appareantly the update taking into account $G$ and thereby the bonds is worse. Maybe I messed up the derivative."
   ]
  }
 ],
 "metadata": {
  "kernelspec": {
   "display_name": "Python 3",
   "language": "python",
   "name": "python3"
  },
  "language_info": {
   "codemirror_mode": {
    "name": "ipython",
    "version": 3
   },
   "file_extension": ".py",
   "mimetype": "text/x-python",
   "name": "python",
   "nbconvert_exporter": "python",
   "pygments_lexer": "ipython3",
   "version": "3.7.5"
  }
 },
 "nbformat": 4,
 "nbformat_minor": 4
}
